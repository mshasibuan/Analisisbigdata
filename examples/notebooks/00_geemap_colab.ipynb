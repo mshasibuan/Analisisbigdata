{
  "cells": [
    {
      "cell_type": "markdown",
      "metadata": {
        "id": "view-in-github",
        "colab_type": "text"
      },
      "source": [
        "<a href=\"https://colab.research.google.com/github/mshasibuan/Analisisbigdata/blob/main/examples/notebooks/00_geemap_colab.ipynb\" target=\"_parent\"><img src=\"https://colab.research.google.com/assets/colab-badge.svg\" alt=\"Open In Colab\"/></a>"
      ]
    },
    {
      "cell_type": "markdown",
      "metadata": {
        "id": "av1QmDqrFNsO"
      },
      "source": [
        "<a href=\"https://colab.research.google.com/github/gee-community/geemap/blob/master/examples/notebooks/00_geemap_colab.ipynb\" target=\"_parent\"><img src=\"https://colab.research.google.com/assets/colab-badge.svg\" alt=\"Open in Colab\"/></a>\n",
        "\n",
        "# Using geemap with Google Colab\n",
        "\n",
        "## Introduction\n",
        "\n",
        "This notebook demonstrates how to use [geemap](https://geemap.org) with Google Colab. To use geemap and the Earth Engine Python API, you must [register](https://code.earthengine.google.com/register) for an Earth Engine account and follow the instructions [here](https://docs.google.com/document/d/1ZGSmrNm6_baqd8CHt33kIBWOlvkh-HLr46bODgJN1h0/edit?usp=sharing) to create a Cloud Project. Earth Engine is free for [noncommercial and research use](https://earthengine.google.com/noncommercial)."
      ],
      "id": "av1QmDqrFNsO"
    },
    {
      "cell_type": "markdown",
      "metadata": {
        "id": "TOzgLfg0FNsQ"
      },
      "source": [
        "## Install geemap\n",
        "\n",
        "The geemap package is pre-installed in Google Colab and is updated to the latest minor or major release every few weeks. If you would like to install the latest version, you can uncomment and run the following command:"
      ],
      "id": "TOzgLfg0FNsQ"
    },
    {
      "cell_type": "code",
      "execution_count": 1,
      "metadata": {
        "id": "bLcArDszFNsR"
      },
      "outputs": [],
      "source": [
        "# %pip install -U geemap"
      ],
      "id": "bLcArDszFNsR"
    },
    {
      "cell_type": "markdown",
      "metadata": {
        "id": "vLKiFnJLFNsR"
      },
      "source": [
        "## Import libraries\n",
        "\n",
        "Import the Earth Engine Python API."
      ],
      "id": "vLKiFnJLFNsR"
    },
    {
      "cell_type": "code",
      "execution_count": null,
      "metadata": {
        "id": "Tl50UuVtFNsS"
      },
      "outputs": [],
      "source": [
        "import ee"
      ],
      "id": "Tl50UuVtFNsS"
    },
    {
      "cell_type": "markdown",
      "metadata": {
        "id": "ZZlGZDqWFNsS"
      },
      "source": [
        "## EE Authentication\n",
        "\n",
        "Running the following cell will start the Earth Engine authentication. Follow the instructions [here](https://book.geemap.org/chapters/01_introduction.html#earth-engine-authentication) to authenticate Earth Engine."
      ],
      "id": "ZZlGZDqWFNsS"
    },
    {
      "cell_type": "code",
      "execution_count": null,
      "metadata": {
        "id": "64CVSLv9FNsS"
      },
      "outputs": [],
      "source": [
        "ee.Authenticate()"
      ],
      "id": "64CVSLv9FNsS"
    },
    {
      "cell_type": "code",
      "execution_count": null,
      "metadata": {
        "id": "YFtUmatIFNsS"
      },
      "outputs": [],
      "source": [
        "ee.Initialize()"
      ],
      "id": "YFtUmatIFNsS"
    },
    {
      "cell_type": "markdown",
      "metadata": {
        "id": "SNz4C2WoFNsS"
      },
      "source": [
        "## Core features\n",
        "\n",
        "You can import the geemap package using the following conventions:\n",
        "\n",
        "- To import only the core features of geemap, use: `import geemap.core as geemap`\n",
        "- To import all the features of geemap, use: `import geemap`\n",
        "\n",
        "Let's import the geemap package using the second option:"
      ],
      "id": "SNz4C2WoFNsS"
    },
    {
      "cell_type": "code",
      "execution_count": null,
      "metadata": {
        "id": "TOaT-cp7FNsT"
      },
      "outputs": [],
      "source": [
        "import geemap.core as geemap"
      ],
      "id": "TOaT-cp7FNsT"
    },
    {
      "cell_type": "markdown",
      "metadata": {
        "id": "jcilAxZNFNsT"
      },
      "source": [
        "## Basemap selector\n",
        "\n",
        "Select a basemap from the dropdown list and add it to the map."
      ],
      "id": "jcilAxZNFNsT"
    },
    {
      "cell_type": "code",
      "execution_count": null,
      "metadata": {
        "id": "lWXcSRbDFNsT"
      },
      "outputs": [],
      "source": [
        "m = geemap.Map()\n",
        "m.add(\"basemap_selector\")\n",
        "m"
      ],
      "id": "lWXcSRbDFNsT"
    },
    {
      "cell_type": "markdown",
      "metadata": {
        "id": "mpiRsCd-FNsT"
      },
      "source": [
        "## Layer Manager\n",
        "\n",
        "Toggle the checkbox to show or hide the layer. Drag and move the slider to change the transparency level of the layer."
      ],
      "id": "mpiRsCd-FNsT"
    },
    {
      "cell_type": "code",
      "execution_count": null,
      "metadata": {
        "id": "fc_BXqRuFNsT"
      },
      "outputs": [],
      "source": [
        "m = geemap.Map(center=(40, -100), zoom=4)\n",
        "dem = ee.Image('USGS/SRTMGL1_003')\n",
        "states = ee.FeatureCollection(\"TIGER/2018/States\")\n",
        "vis_params = {\n",
        "    'min': 0,\n",
        "    'max': 4000,\n",
        "    'palette': ['006633', 'E5FFCC', '662A00', 'D8D8D8', 'F5F5F5'],\n",
        "}\n",
        "m.add_layer(dem, vis_params, 'SRTM DEM')\n",
        "m.add_layer(states, {}, \"US States\")\n",
        "m.add('layer_manager')\n",
        "m"
      ],
      "id": "fc_BXqRuFNsT"
    },
    {
      "cell_type": "markdown",
      "metadata": {
        "id": "aaZxtG8-FNsT"
      },
      "source": [
        "## Inspector\n",
        "\n",
        "Click on the map to query Earth Engine data at a specific location."
      ],
      "id": "aaZxtG8-FNsT"
    },
    {
      "cell_type": "code",
      "execution_count": null,
      "metadata": {
        "id": "XDNwGHFzFNsT"
      },
      "outputs": [],
      "source": [
        "m = geemap.Map(center=(40, -100), zoom=4)\n",
        "dem = ee.Image('USGS/SRTMGL1_003')\n",
        "landsat7 = ee.Image('LANDSAT/LE7_TOA_5YEAR/1999_2003')\n",
        "states = ee.FeatureCollection(\"TIGER/2018/States\")\n",
        "vis_params = {\n",
        "    'min': 0,\n",
        "    'max': 4000,\n",
        "    'palette': ['006633', 'E5FFCC', '662A00', 'D8D8D8', 'F5F5F5'],\n",
        "}\n",
        "m.add_layer(dem, vis_params, 'SRTM DEM')\n",
        "m.add_layer(\n",
        "    landsat7,\n",
        "    {'bands': ['B4', 'B3', 'B2'], 'min': 20, 'max': 200, 'gamma': 2.0},\n",
        "    'Landsat 7',\n",
        ")\n",
        "m.add_layer(states, {}, \"US States\")\n",
        "m.add('inspector')\n",
        "m"
      ],
      "id": "XDNwGHFzFNsT"
    },
    {
      "cell_type": "markdown",
      "metadata": {
        "id": "ZfljndHPFNsT"
      },
      "source": [
        "## Layer Editor\n",
        "\n",
        "You can change the visualization parameters of the Earth Engine data using the layer editor.\n",
        "\n",
        "### Single-band image"
      ],
      "id": "ZfljndHPFNsT"
    },
    {
      "cell_type": "code",
      "execution_count": null,
      "metadata": {
        "id": "jkgR8tARFNsT"
      },
      "outputs": [],
      "source": [
        "m = geemap.Map(center=(40, -100), zoom=4)\n",
        "dem = ee.Image('USGS/SRTMGL1_003')\n",
        "vis_params = {\n",
        "    'min': 0,\n",
        "    'max': 4000,\n",
        "    'palette': ['006633', 'E5FFCC', '662A00', 'D8D8D8', 'F5F5F5'],\n",
        "}\n",
        "m.add_layer(dem, vis_params, 'SRTM DEM')\n",
        "m.add('layer_editor', layer_dict=m.ee_layers['SRTM DEM'])\n",
        "m"
      ],
      "id": "jkgR8tARFNsT"
    },
    {
      "cell_type": "markdown",
      "metadata": {
        "id": "Cl1E81o2FNsT"
      },
      "source": [
        "### Multi-band image"
      ],
      "id": "Cl1E81o2FNsT"
    },
    {
      "cell_type": "code",
      "execution_count": null,
      "metadata": {
        "id": "m3O7sKTZFNsT"
      },
      "outputs": [],
      "source": [
        "m = geemap.Map(center=(40, -100), zoom=4)\n",
        "landsat7 = ee.Image('LANDSAT/LE7_TOA_5YEAR/1999_2003')\n",
        "m.add_layer(\n",
        "    landsat7,\n",
        "    {'bands': ['B4', 'B3', 'B2'], 'min': 20, 'max': 200, 'gamma': 2.0},\n",
        "    'Landsat 7',\n",
        ")\n",
        "m.add('layer_editor', layer_dict=m.ee_layers['Landsat 7'])\n",
        "m"
      ],
      "id": "m3O7sKTZFNsT"
    },
    {
      "cell_type": "markdown",
      "metadata": {
        "id": "SpsiJK4cFNsT"
      },
      "source": [
        "### Feature collection"
      ],
      "id": "SpsiJK4cFNsT"
    },
    {
      "cell_type": "code",
      "execution_count": null,
      "metadata": {
        "id": "Xpqdp8qNFNsT"
      },
      "outputs": [],
      "source": [
        "m = geemap.Map(center=(40, -100), zoom=4)\n",
        "states = ee.FeatureCollection(\"TIGER/2018/States\")\n",
        "m.add_layer(states, {}, \"US States\")\n",
        "m.add('layer_editor', layer_dict=m.ee_layers['US States'])\n",
        "m"
      ],
      "id": "Xpqdp8qNFNsT"
    },
    {
      "cell_type": "markdown",
      "metadata": {
        "id": "4xqptx2QFNsT"
      },
      "source": [
        "## Draw control\n",
        "\n",
        "You can draw shapes on the map using the draw control. The drawn features will be automatically converted to Earth Engine objects, which can be accessed in one of the following ways:\n",
        "\n",
        "- To return the last drawn feature as an `ee.Geometry()`, use: `m._draw_control.last_geometry`\n",
        "- To return all the drawn feature as an `ee.Feature()`, use: `m._draw_control.last_feature`\n",
        "- To return all the drawn features as an `ee.FeatureCollection()`, use: `m._draw_control.collection`"
      ],
      "id": "4xqptx2QFNsT"
    },
    {
      "cell_type": "code",
      "execution_count": null,
      "metadata": {
        "id": "MV9YGBjOFNsT"
      },
      "outputs": [],
      "source": [
        "m = geemap.Map(center=(40, -100), zoom=4)\n",
        "dem = ee.Image('USGS/SRTMGL1_003')\n",
        "vis_params = {\n",
        "    'min': 0,\n",
        "    'max': 4000,\n",
        "    'palette': 'terrain',\n",
        "}\n",
        "m.add_layer(dem, vis_params, 'SRTM DEM')\n",
        "m.add('layer_manager')\n",
        "m"
      ],
      "id": "MV9YGBjOFNsT"
    },
    {
      "cell_type": "markdown",
      "metadata": {
        "id": "CHYPTRePFNsU"
      },
      "source": [
        "Use the draw control to draw a polygon on the map."
      ],
      "id": "CHYPTRePFNsU"
    },
    {
      "cell_type": "code",
      "execution_count": null,
      "metadata": {
        "id": "JUIC2W2LFNsU"
      },
      "outputs": [],
      "source": [
        "geometry = m._draw_control.last_geometry\n",
        "geometry"
      ],
      "id": "JUIC2W2LFNsU"
    },
    {
      "cell_type": "code",
      "execution_count": null,
      "metadata": {
        "id": "KNw4MJhdFNsU"
      },
      "outputs": [],
      "source": [
        "feature = m._draw_control.last_feature\n",
        "feature"
      ],
      "id": "KNw4MJhdFNsU"
    },
    {
      "cell_type": "code",
      "execution_count": null,
      "metadata": {
        "id": "jMqW17WFFNsU"
      },
      "outputs": [],
      "source": [
        "collection = m._draw_control.collection\n",
        "collection"
      ],
      "id": "jMqW17WFFNsU"
    },
    {
      "cell_type": "markdown",
      "metadata": {
        "id": "f--g548FFNsU"
      },
      "source": [
        "Clip the DEM data using the drawn polygon."
      ],
      "id": "f--g548FFNsU"
    },
    {
      "cell_type": "code",
      "execution_count": null,
      "metadata": {
        "id": "njOePoCLFNsU"
      },
      "outputs": [],
      "source": [
        "if geometry is not None:\n",
        "    image = dem.clipToCollection(collection)\n",
        "    m.layers[1].visible = False\n",
        "    m.add_layer(image, vis_params, \"Clipped DEM\")\n",
        "m"
      ],
      "id": "njOePoCLFNsU"
    }
  ],
  "metadata": {
    "kernelspec": {
      "display_name": "Python 3",
      "language": "python",
      "name": "python3"
    },
    "language_info": {
      "codemirror_mode": {
        "name": "ipython",
        "version": 3
      },
      "file_extension": ".py",
      "mimetype": "text/x-python",
      "name": "python",
      "nbconvert_exporter": "python",
      "pygments_lexer": "ipython3",
      "version": "3.11.5"
    },
    "colab": {
      "provenance": [],
      "include_colab_link": true
    }
  },
  "nbformat": 4,
  "nbformat_minor": 5
}